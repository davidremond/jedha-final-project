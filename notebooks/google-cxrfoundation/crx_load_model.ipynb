{
 "cells": [
  {
   "cell_type": "code",
   "execution_count": 2,
   "metadata": {},
   "outputs": [],
   "source": [
    "!pip install tensorflow tensorflow-hub -q"
   ]
  },
  {
   "cell_type": "code",
   "execution_count": null,
   "metadata": {},
   "outputs": [],
   "source": [
    "from transformers import TFBlipForImageClassification, BlipProcessor\n",
    "import tensorflow as tf\n",
    "import numpy as np\n",
    "from PIL import Image\n",
    "\n",
    "# Charger le modèle de traitement et le modèle pré-entrainé depuis Hugging Face\n",
    "processor = BlipProcessor.from_pretrained(\"google/cxr-foundation\")\n",
    "model = TFBlipForImageClassification.from_pretrained(\"google/cxr-foundation\")\n",
    "\n",
    "# Charger une image (exemple d'image médicale)\n",
    "image = Image.open(\"path_to_your_image.jpg\").convert(\"RGB\")\n",
    "\n",
    "# Prétraiter l'image (taille, normalisation, etc.)\n",
    "inputs = processor(images=image, return_tensors=\"tf\")\n",
    "\n",
    "# Prédiction avec le modèle\n",
    "outputs = model(**inputs)\n",
    "logits = outputs.logits  # Les résultats de la classification\n"
   ]
  }
 ],
 "metadata": {
  "language_info": {
   "name": "python"
  }
 },
 "nbformat": 4,
 "nbformat_minor": 2
}
