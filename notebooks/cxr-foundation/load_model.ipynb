{
 "cells": [
  {
   "cell_type": "code",
   "execution_count": 2,
   "metadata": {},
   "outputs": [],
   "source": [
    "!pip install tensorflow tensorflow-hub -q"
   ]
  },
  {
   "cell_type": "code",
   "execution_count": 5,
   "metadata": {},
   "outputs": [
    {
     "ename": "ImportError",
     "evalue": "cannot import name 'TFBlipForImageClassification' from 'transformers' (/home/zeus/miniconda3/envs/cloudspace/lib/python3.10/site-packages/transformers/__init__.py)",
     "output_type": "error",
     "traceback": [
      "\u001b[0;31m---------------------------------------------------------------------------\u001b[0m",
      "\u001b[0;31mImportError\u001b[0m                               Traceback (most recent call last)",
      "Cell \u001b[0;32mIn[5], line 1\u001b[0m\n\u001b[0;32m----> 1\u001b[0m \u001b[38;5;28;01mfrom\u001b[39;00m\u001b[38;5;250m \u001b[39m\u001b[38;5;21;01mtransformers\u001b[39;00m\u001b[38;5;250m \u001b[39m\u001b[38;5;28;01mimport\u001b[39;00m TFBlipForImageClassification, BlipProcessor\n\u001b[1;32m      2\u001b[0m \u001b[38;5;28;01mimport\u001b[39;00m\u001b[38;5;250m \u001b[39m\u001b[38;5;21;01mtensorflow\u001b[39;00m\u001b[38;5;250m \u001b[39m\u001b[38;5;28;01mas\u001b[39;00m\u001b[38;5;250m \u001b[39m\u001b[38;5;21;01mtf\u001b[39;00m\n\u001b[1;32m      3\u001b[0m \u001b[38;5;28;01mimport\u001b[39;00m\u001b[38;5;250m \u001b[39m\u001b[38;5;21;01mnumpy\u001b[39;00m\u001b[38;5;250m \u001b[39m\u001b[38;5;28;01mas\u001b[39;00m\u001b[38;5;250m \u001b[39m\u001b[38;5;21;01mnp\u001b[39;00m\n",
      "\u001b[0;31mImportError\u001b[0m: cannot import name 'TFBlipForImageClassification' from 'transformers' (/home/zeus/miniconda3/envs/cloudspace/lib/python3.10/site-packages/transformers/__init__.py)"
     ]
    }
   ],
   "source": [
    "from transformers import TFBlipForImageClassification, BlipProcessor\n",
    "import tensorflow as tf\n",
    "import numpy as np\n",
    "from PIL import Image\n",
    "\n",
    "# Charger le modèle de traitement et le modèle pré-entrainé depuis Hugging Face\n",
    "processor = BlipProcessor.from_pretrained(\"google/cxr-foundation\")\n",
    "model = TFBlipForImageClassification.from_pretrained(\"google/cxr-foundation\")\n",
    "\n",
    "# Charger une image (exemple d'image médicale)\n",
    "image = Image.open(\"path_to_your_image.jpg\").convert(\"RGB\")\n",
    "\n",
    "# Prétraiter l'image (taille, normalisation, etc.)\n",
    "inputs = processor(images=image, return_tensors=\"tf\")\n",
    "\n",
    "# Prédiction avec le modèle\n",
    "outputs = model(**inputs)\n",
    "logits = outputs.logits  # Les résultats de la classification\n"
   ]
  }
 ],
 "metadata": {
  "language_info": {
   "name": "python"
  }
 },
 "nbformat": 4,
 "nbformat_minor": 2
}
